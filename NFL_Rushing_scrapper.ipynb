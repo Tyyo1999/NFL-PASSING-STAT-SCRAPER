{
 "cells": [
  {
   "cell_type": "code",
   "execution_count": 16,
   "metadata": {},
   "outputs": [
    {
     "name": "stdout",
     "output_type": "stream",
     "text": [
      "******************************\n",
      "0\n",
      "             Player  Pass Yds  Yds/Att  Att  Cmp  Cmp %  TD  INT   Rate  1st  \\\n",
      "0   Patrick Mahomes      5250      8.1  648  435   67.1  41   12  105.2  272   \n",
      "1    Justin Herbert      4739      6.8  699  477   68.2  25   10   93.2  228   \n",
      "2         Tom Brady      4694      6.4  733  490   66.8  25    9   90.7  237   \n",
      "3      Kirk Cousins      4547      7.1  643  424   65.9  29   14   92.5  230   \n",
      "4        Joe Burrow      4475      7.4  606  414   68.3  35   12  100.8  219   \n",
      "5        Jared Goff      4438      7.6  587  382   65.1  29    7   99.3  227   \n",
      "6        Josh Allen      4283      7.6  567  359   63.3  35   14   96.6  212   \n",
      "7        Geno Smith      4282      7.5  572  399   69.8  30   11  100.9  206   \n",
      "8   Trevor Lawrence      4113      7.0  584  387   66.3  25    8   95.2  206   \n",
      "9       Jalen Hurts      3701      8.0  460  306   66.5  22    6  101.6  165   \n",
      "10    Aaron Rodgers      3695      6.8  542  350   64.6  26   12   91.1  177   \n",
      "11   Tua Tagovailoa      3548      8.9  400  259   64.8  25    8  105.5  162   \n",
      "12   Russell Wilson      3524      7.3  483  292   60.5  16   11   84.4  142   \n",
      "13       Derek Carr      3522      7.0  502  305   60.8  24   14   86.3  161   \n",
      "14     Daniel Jones      3205      6.8  472  317   67.2  15    5   92.5  156   \n",
      "15      Davis Mills      3118      6.5  479  292   61.0  17   15   78.8  135   \n",
      "16        Matt Ryan      3057      6.6  461  309   67.0  14   13   83.9  156   \n",
      "17        Mac Jones      2997      6.8  442  288   65.2  14   11   84.8  127   \n",
      "18      Andy Dalton      2871      7.6  378  252   66.7  18    9   95.2  135   \n",
      "19     Dak Prescott      2860      7.3  394  261   66.2  23   15   91.1  142   \n",
      "20  Jacoby Brissett      2608      7.1  369  236   64.0  12    6   88.9  129   \n",
      "21   Ryan Tannehill      2536      7.8  325  212   65.2  13    6   94.6  116   \n",
      "22  Jimmy Garoppolo      2437      7.9  308  207   67.2  16    4  103.0  114   \n",
      "23    Kenny Pickett      2404      6.2  389  245   63.0   7    9   76.7  123   \n",
      "24     Kyler Murray      2368      6.1  390  259   66.4  14    7   87.2  119   \n",
      "\n",
      "    1st%  20+  40+  Lng  Sck  SckY  \n",
      "0   42.0   73   13   67   26   188  \n",
      "1   32.6   50    7   55   38   206  \n",
      "2   32.3   50    8   63   22   160  \n",
      "3   35.8   47   10   66   46   329  \n",
      "4   36.1   53   10   60   41   259  \n",
      "5   38.7   57   12   81   23   156  \n",
      "6   37.4   51   12   98   33   162  \n",
      "7   36.0   50    6   54   46   348  \n",
      "8   35.3   55    3   59   27   184  \n",
      "9   35.9   52   11   68   38   231  \n",
      "10  32.7   53    6   58   32   258  \n",
      "11  40.5   50   12   84   21   163  \n",
      "12  29.4   54   11   67   55   368  \n",
      "13  32.1   47    8   60   27   191  \n",
      "14  33.0   27    5   65   44   243  \n",
      "15  28.2   50    7   58   31   244  \n",
      "16  33.8   33    2   45   38   287  \n",
      "17  28.7   42    7   48   34   231  \n",
      "18  35.7   28    7   64   25   189  \n",
      "19  36.0   37    3   68   20   126  \n",
      "20  35.0   32    4   55   24   160  \n",
      "21  35.7   35   10   69   33   238  \n",
      "22  37.0   31    2   57   18   100  \n",
      "23  31.6   28    1   57   27   182  \n",
      "24  30.5   27    0   38   25   192  \n"
     ]
    }
   ],
   "source": [
    "import pandas as pd\n",
    "\n",
    "scraper = pd.read_html(\"https://www.nfl.com/stats/player-stats/category/passing/2022/reg/all/passingyards/desc\")\n",
    "\n",
    "for idx, table in enumerate(scraper):\n",
    "  print(\"******************************\")\n",
    "  print(idx)\n",
    "  print(table)"
   ]
  }
 ],
 "metadata": {
  "kernelspec": {
   "display_name": "Python 3",
   "language": "python",
   "name": "python3"
  },
  "language_info": {
   "codemirror_mode": {
    "name": "ipython",
    "version": 3
   },
   "file_extension": ".py",
   "mimetype": "text/x-python",
   "name": "python",
   "nbconvert_exporter": "python",
   "pygments_lexer": "ipython3",
   "version": "3.10.1"
  },
  "orig_nbformat": 4,
  "vscode": {
   "interpreter": {
    "hash": "369f2c481f4da34e4445cda3fffd2e751bd1c4d706f27375911949ba6bb62e1c"
   }
  }
 },
 "nbformat": 4,
 "nbformat_minor": 2
}
